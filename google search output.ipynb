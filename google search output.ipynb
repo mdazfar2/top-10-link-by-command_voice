{
 "cells": [
  {
   "cell_type": "code",
   "execution_count": 3,
   "id": "30d4384d",
   "metadata": {},
   "outputs": [
    {
     "name": "stdout",
     "output_type": "stream",
     "text": [
      "Enter what you want to search: Md Azfar Alam\n",
      "How many results do you want: 5\n",
      "Search Results:\n",
      "https://in.linkedin.com/in/md-azfar-alam\n",
      "https://in.linkedin.com/in/md-azfar-alam-4b9710194\n",
      "https://www.facebook.com/mdazfar.alam.10/\n",
      "https://hi-in.facebook.com/public/Md-Azfar-Alam\n",
      "https://www.quora.com/profile/Md-Azfar-Alam-2\n"
     ]
    }
   ],
   "source": [
    "from googlesearch import search\n",
    "\n",
    "query = input(\"Enter what you want to search: \")\n",
    "result = int(input(\"How many results do you want: \"))\n",
    "\n",
    "search_results = []\n",
    "for i in search(query, num=result, stop=result, pause=2.0):\n",
    "    search_results.append(i)\n",
    "\n",
    "print(\"Search Results:\")\n",
    "for url in search_results:\n",
    "    print(url)\n"
   ]
  },
  {
   "cell_type": "code",
   "execution_count": null,
   "id": "a8bc7a4b",
   "metadata": {},
   "outputs": [],
   "source": []
  }
 ],
 "metadata": {
  "kernelspec": {
   "display_name": "Python 3 (ipykernel)",
   "language": "python",
   "name": "python3"
  },
  "language_info": {
   "codemirror_mode": {
    "name": "ipython",
    "version": 3
   },
   "file_extension": ".py",
   "mimetype": "text/x-python",
   "name": "python",
   "nbconvert_exporter": "python",
   "pygments_lexer": "ipython3",
   "version": "3.11.3"
  }
 },
 "nbformat": 4,
 "nbformat_minor": 5
}
