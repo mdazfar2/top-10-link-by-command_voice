{
 "cells": [
  {
   "cell_type": "code",
   "execution_count": null,
   "id": "132a4c79",
   "metadata": {},
   "outputs": [],
   "source": [
    "import speech_recognition as sr\n",
    "import pyttsx3\n",
    "from googlesearch import search\n",
    "\n",
    "def speak(text):\n",
    "    engine = pyttsx3.init()\n",
    "    engine.say(text)\n",
    "    engine.runAndWait()\n",
    "\n",
    "def recognize_speech():\n",
    "    recognizer = sr.Recognizer()\n",
    "\n",
    "    with sr.Microphone() as source:\n",
    "        print(\"Listening...\")\n",
    "        audio = recognizer.listen(source)\n",
    "\n",
    "    try:\n",
    "        print(\"Recognizing...\")\n",
    "        text = recognizer.recognize_google(audio)\n",
    "        print(\"You said:\", text)\n",
    "        return text.lower()\n",
    "    except sr.UnknownValueError:\n",
    "        print(\"Sorry, could not understand audio.\")\n",
    "    except sr.RequestError as e:\n",
    "        print(f\"Error with the speech recognition service; {e}\")\n",
    "\n",
    "    return None\n",
    "\n",
    "def set_audio_output():\n",
    "    engine = pyttsx3.init()\n",
    "    voices = engine.getProperty(\"voices\")\n",
    "    engine.setProperty(\"voice\", voices[1].id)  # Select the desired voice (change the index if needed)\n",
    "    engine.setProperty(\"output\", \"auto\")  # Set the audio output to the default system audio\n",
    "\n",
    "def main():\n",
    "    set_audio_output()\n",
    "    query = recognize_speech()\n",
    "    if query:\n",
    "        result = 10  # Set the default number of results\n",
    "        search_results = list(search(query, num_results=result))\n",
    "\n",
    "        # Print the top search results\n",
    "        print(\"Top search results:\")\n",
    "        for idx, result in enumerate(search_results, 1):\n",
    "            print(f\"{idx}. {result}\")\n",
    "\n",
    "if __name__ == \"__main__\":\n",
    "    main()\n"
   ]
  },
  {
   "cell_type": "code",
   "execution_count": null,
   "id": "b0e1a76d",
   "metadata": {},
   "outputs": [],
   "source": []
  }
 ],
 "metadata": {
  "kernelspec": {
   "display_name": "Python 3 (ipykernel)",
   "language": "python",
   "name": "python3"
  },
  "language_info": {
   "codemirror_mode": {
    "name": "ipython",
    "version": 3
   },
   "file_extension": ".py",
   "mimetype": "text/x-python",
   "name": "python",
   "nbconvert_exporter": "python",
   "pygments_lexer": "ipython3",
   "version": "3.11.3"
  }
 },
 "nbformat": 4,
 "nbformat_minor": 5
}
